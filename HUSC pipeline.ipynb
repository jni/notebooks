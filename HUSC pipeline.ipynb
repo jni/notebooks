{
 "metadata": {
  "name": ""
 },
 "nbformat": 3,
 "nbformat_minor": 0,
 "worksheets": [
  {
   "cells": [
    {
     "cell_type": "markdown",
     "metadata": {},
     "source": [
      "# HUSC pipeline\n",
      "Wherein we demonstrate the capabilities of HUSC."
     ]
    },
    {
     "cell_type": "markdown",
     "metadata": {},
     "source": [
      "## Setup\n",
      "First, import everything we need and switch to the right directory."
     ]
    },
    {
     "cell_type": "code",
     "collapsed": false,
     "input": [
      "from husc import preprocess as hpre, io as hio, features as hfeat\n",
      "from skimage import io\n",
      "\n",
      "%cd ~/Data/marcelle-hcs-sample/images-work"
     ],
     "language": "python",
     "metadata": {},
     "outputs": []
    },
    {
     "cell_type": "markdown",
     "metadata": {},
     "source": [
      "Optionally, set up inline figures."
     ]
    },
    {
     "cell_type": "code",
     "collapsed": false,
     "input": [
      "%pylab inline"
     ],
     "language": "python",
     "metadata": {},
     "outputs": []
    },
    {
     "cell_type": "markdown",
     "metadata": {},
     "source": [
      "## IO\n",
      "Next, read in the required images."
     ]
    }
   ],
   "metadata": {}
  }
 ]
}