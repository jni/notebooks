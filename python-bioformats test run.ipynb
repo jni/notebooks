{
 "metadata": {
  "name": "",
  "signature": "sha256:8b1c58b7b4e089f1fe4090b9362418bb4e49909f2a563d7228e272dab36e60ad"
 },
 "nbformat": 3,
 "nbformat_minor": 0,
 "worksheets": [
  {
   "cells": [
    {
     "cell_type": "markdown",
     "metadata": {},
     "source": [
      "Recently, the CellProfiler team at the Broad Institute [announced](https://groups.google.com/a/broadinstitute.org/forum/#!topic/cellprofiler-dev/QZJ1WpiJxuI) pre-release versions of the [python-javabridge](https://github.com/CellProfiler/python-javabridge) and [python-bioformats](https://github.com/CellProfiler/python-bioformats) packages available on PyPI. The latter enables easy import of many biological image formats into numpy arrays, without any of the [flailing around](http://ilovesymposia.com/2014/02/26/fiji-jython/) with converters in Jython that I'd fiddled with in the past.\n",
      "\n",
      "Before starting, you'll need Java development headers on your machine. I imagine that on Linux systems you'd do something like `sudo apt-get install java-devel`, but on OSX you head to Apple's [Developer downloads](https://developer.apple.com/downloads/index.action) page, which requires your Apple ID, and download a \"Java for OS X `<version>` Developer Package\".\n",
      "\n",
      "Then, simply run `pip install python-bioformats`, and you'll get both packages!\n",
      "\n",
      "Next, I follow the examples in the python-bioformats [documentation](http://pythonhosted.org/python-bioformats/) to try to read parts of a massive, 400+GB Leica file without giving my RAM a heart attack."
     ]
    },
    {
     "cell_type": "code",
     "collapsed": false,
     "input": [
      "%matplotlib inline\n",
      "import javabridge as jv\n",
      "import bioformats as bf\n",
      "jv.start_vm(class_path=bf.JARS)"
     ],
     "language": "python",
     "metadata": {},
     "outputs": [],
     "prompt_number": 1
    },
    {
     "cell_type": "code",
     "collapsed": false,
     "input": [
      "# Change to the appropriate directory and get the file information\n",
      "%cd /Volumes/LaCie/Data/zebrafish-lesion\n",
      "%ls"
     ],
     "language": "python",
     "metadata": {},
     "outputs": [
      {
       "output_type": "stream",
       "stream": "stdout",
       "text": [
        "/Volumes/LaCie/Data/zebrafish-lesion\n",
        "\u001b[31m2d-post-SCI.lif-cut-PTZ-1.tif\u001b[m\u001b[m* \u001b[31msci-quant.lzf.h5\u001b[m\u001b[m*\r\n",
        "\u001b[31mLong time Gfap 260314.lif\u001b[m\u001b[m*     \u001b[31msci-quant.tif\u001b[m\u001b[m*\r\n",
        "\u001b[31mim.png\u001b[m\u001b[m*                        \u001b[31mtifffile.py\u001b[m\u001b[m*\r\n",
        "\u001b[31mim.tif\u001b[m\u001b[m*                        \u001b[31mtifffile.pyc\u001b[m\u001b[m*\r\n",
        "\u001b[31mlineprofile.py\u001b[m\u001b[m*                \u001b[30m\u001b[43mtime-series\u001b[m\u001b[m/\r\n",
        "\u001b[31mlineprofile.pyc\u001b[m\u001b[m*\r\n"
       ]
      }
     ],
     "prompt_number": 2
    },
    {
     "cell_type": "markdown",
     "metadata": {},
     "source": [
      "This doesn't work: we get a massive Java heap space error:\n",
      "```python\n",
      "md = bf.get_omexml_metadata('Long time Gfap 260314.lif')\n",
      "```\n",
      "\n",
      "Let's try another strategy, [suggested](https://github.com/CellProfiler/python-bioformats/issues/8#issuecomment-42026453) by Lee Kamentsky on the `python-bioformats` issue tracker."
     ]
    },
    {
     "cell_type": "markdown",
     "metadata": {},
     "source": [
      "This also doesn't work, perhaps because the context manager is required:\n",
      "```python\n",
      "filename = 'Long time Gfap 260314.lif'\n",
      "reader = bf.ImageReader(filename).rdr\n",
      "print \"The file contains %i series.\" % reader.getSeriesCount()\n",
      "```"
     ]
    },
    {
     "cell_type": "code",
     "collapsed": false,
     "input": [
      "# Nope: this gets the same exception!\n",
      "filename = 'Long time Gfap 260314.lif'\n",
      "with bf.ImageReader(filename) as rdr:\n",
      "    pass\n",
      "print(\"Done\")"
     ],
     "language": "python",
     "metadata": {},
     "outputs": [
      {
       "ename": "JavaException",
       "evalue": "Java heap space",
       "output_type": "pyerr",
       "traceback": [
        "\u001b[0;31m---------------------------------------------------------------------------\u001b[0m\n\u001b[0;31mJavaException\u001b[0m                             Traceback (most recent call last)",
        "\u001b[0;32m<ipython-input-6-ccc7f10e659b>\u001b[0m in \u001b[0;36m<module>\u001b[0;34m()\u001b[0m\n\u001b[1;32m      3\u001b[0m \u001b[0;32mwith\u001b[0m \u001b[0mbf\u001b[0m\u001b[0;34m.\u001b[0m\u001b[0mImageReader\u001b[0m\u001b[0;34m(\u001b[0m\u001b[0mfilename\u001b[0m\u001b[0;34m,\u001b[0m \u001b[0mperform_init\u001b[0m\u001b[0;34m=\u001b[0m\u001b[0mFalse\u001b[0m\u001b[0;34m)\u001b[0m \u001b[0;32mas\u001b[0m \u001b[0mrdr\u001b[0m\u001b[0;34m:\u001b[0m\u001b[0;34m\u001b[0m\u001b[0m\n\u001b[1;32m      4\u001b[0m     \u001b[0mreader\u001b[0m \u001b[0;34m=\u001b[0m \u001b[0mrdr\u001b[0m\u001b[0;34m.\u001b[0m\u001b[0mrdr\u001b[0m\u001b[0;34m\u001b[0m\u001b[0m\n\u001b[0;32m----> 5\u001b[0;31m     \u001b[0mreader\u001b[0m\u001b[0;34m.\u001b[0m\u001b[0msetId\u001b[0m\u001b[0;34m(\u001b[0m\u001b[0mfilename\u001b[0m\u001b[0;34m)\u001b[0m\u001b[0;34m\u001b[0m\u001b[0m\n\u001b[0m\u001b[1;32m      6\u001b[0m     \u001b[0;32mprint\u001b[0m\u001b[0;34m(\u001b[0m\u001b[0;34m\"The number of series is %d.\"\u001b[0m \u001b[0;34m%\u001b[0m \u001b[0mreader\u001b[0m\u001b[0;34m.\u001b[0m\u001b[0mgetSeriesCount\u001b[0m\u001b[0;34m(\u001b[0m\u001b[0;34m)\u001b[0m\u001b[0;34m)\u001b[0m\u001b[0;34m\u001b[0m\u001b[0m\n\u001b[1;32m      7\u001b[0m \u001b[0;32mprint\u001b[0m\u001b[0;34m(\u001b[0m\u001b[0;34m\"Done\"\u001b[0m\u001b[0;34m)\u001b[0m\u001b[0;34m\u001b[0m\u001b[0m\n",
        "\u001b[0;32m/Users/nuneziglesiasj/anaconda/lib/python2.7/site-packages/bioformats/formatreader.pyc\u001b[0m in \u001b[0;36msetId\u001b[0;34m(self, path)\u001b[0m\n\u001b[1;32m    182\u001b[0m             jutil.call(self.o, 'setId', \n\u001b[1;32m    183\u001b[0m                        \u001b[0;34m'(Ljava/lang/String;)V'\u001b[0m\u001b[0;34m,\u001b[0m\u001b[0;34m\u001b[0m\u001b[0m\n\u001b[0;32m--> 184\u001b[0;31m                        path)\n\u001b[0m\u001b[1;32m    185\u001b[0m \u001b[0;34m\u001b[0m\u001b[0m\n\u001b[1;32m    186\u001b[0m         getMetadataStore = jutil.make_method('getMetadataStore', '()Lloci/formats/meta/MetadataStore;',\n",
        "\u001b[0;32m/Users/nuneziglesiasj/anaconda/lib/python2.7/site-packages/javabridge/jutil.pyc\u001b[0m in \u001b[0;36mcall\u001b[0;34m(o, method_name, sig, *args)\u001b[0m\n\u001b[1;32m    888\u001b[0m     \u001b[0mret_sig\u001b[0m \u001b[0;34m=\u001b[0m \u001b[0msig\u001b[0m\u001b[0;34m[\u001b[0m\u001b[0msig\u001b[0m\u001b[0;34m.\u001b[0m\u001b[0mfind\u001b[0m\u001b[0;34m(\u001b[0m\u001b[0;34m')'\u001b[0m\u001b[0;34m)\u001b[0m\u001b[0;34m+\u001b[0m\u001b[0;36m1\u001b[0m\u001b[0;34m:\u001b[0m\u001b[0;34m]\u001b[0m\u001b[0;34m\u001b[0m\u001b[0m\n\u001b[1;32m    889\u001b[0m     \u001b[0mnice_args\u001b[0m \u001b[0;34m=\u001b[0m \u001b[0mget_nice_args\u001b[0m\u001b[0;34m(\u001b[0m\u001b[0margs\u001b[0m\u001b[0;34m,\u001b[0m \u001b[0margs_sig\u001b[0m\u001b[0;34m)\u001b[0m\u001b[0;34m\u001b[0m\u001b[0m\n\u001b[0;32m--> 890\u001b[0;31m     \u001b[0mresult\u001b[0m \u001b[0;34m=\u001b[0m \u001b[0mfn\u001b[0m\u001b[0;34m(\u001b[0m\u001b[0;34m*\u001b[0m\u001b[0mnice_args\u001b[0m\u001b[0;34m)\u001b[0m\u001b[0;34m\u001b[0m\u001b[0m\n\u001b[0m\u001b[1;32m    891\u001b[0m     \u001b[0mx\u001b[0m \u001b[0;34m=\u001b[0m \u001b[0menv\u001b[0m\u001b[0;34m.\u001b[0m\u001b[0mexception_occurred\u001b[0m\u001b[0;34m(\u001b[0m\u001b[0;34m)\u001b[0m\u001b[0;34m\u001b[0m\u001b[0m\n\u001b[1;32m    892\u001b[0m     \u001b[0;32mif\u001b[0m \u001b[0mx\u001b[0m \u001b[0;32mis\u001b[0m \u001b[0;32mnot\u001b[0m \u001b[0mNone\u001b[0m\u001b[0;34m:\u001b[0m\u001b[0;34m\u001b[0m\u001b[0m\n",
        "\u001b[0;32m/Users/nuneziglesiasj/anaconda/lib/python2.7/site-packages/javabridge/jutil.pyc\u001b[0m in \u001b[0;36mfn\u001b[0;34m(*args)\u001b[0m\n\u001b[1;32m    855\u001b[0m             \u001b[0mx\u001b[0m \u001b[0;34m=\u001b[0m \u001b[0menv\u001b[0m\u001b[0;34m.\u001b[0m\u001b[0mexception_occurred\u001b[0m\u001b[0;34m(\u001b[0m\u001b[0;34m)\u001b[0m\u001b[0;34m\u001b[0m\u001b[0m\n\u001b[1;32m    856\u001b[0m             \u001b[0;32mif\u001b[0m \u001b[0mx\u001b[0m \u001b[0;32mis\u001b[0m \u001b[0;32mnot\u001b[0m \u001b[0mNone\u001b[0m\u001b[0;34m:\u001b[0m\u001b[0;34m\u001b[0m\u001b[0m\n\u001b[0;32m--> 857\u001b[0;31m                 \u001b[0;32mraise\u001b[0m \u001b[0mJavaException\u001b[0m\u001b[0;34m(\u001b[0m\u001b[0mx\u001b[0m\u001b[0;34m)\u001b[0m\u001b[0;34m\u001b[0m\u001b[0m\n\u001b[0m\u001b[1;32m    858\u001b[0m             \u001b[0;32mreturn\u001b[0m \u001b[0mresult\u001b[0m\u001b[0;34m\u001b[0m\u001b[0m\n\u001b[1;32m    859\u001b[0m     \u001b[0;32melse\u001b[0m\u001b[0;34m:\u001b[0m\u001b[0;34m\u001b[0m\u001b[0m\n",
        "\u001b[0;31mJavaException\u001b[0m: Java heap space"
       ]
      }
     ],
     "prompt_number": 6
    },
    {
     "cell_type": "code",
     "collapsed": false,
     "input": [
      "# And failed attempt number 4...\n",
      "filename = 'Long time Gfap 260314.lif'\n",
      "with bf.ImageReader(filename, perform_init=False) as rdr:\n",
      "    reader = rdr.rdr\n",
      "    reader.setId(filename)\n",
      "    print(\"The number of series is %d.\" % reader.getSeriesCount())"
     ],
     "language": "python",
     "metadata": {},
     "outputs": []
    },
    {
     "cell_type": "code",
     "collapsed": false,
     "input": [
      "# Kill the VM at the end! I actually edited this first\n",
      "# because it's easy to forget!\n",
      "jv.kill_vm()"
     ],
     "language": "python",
     "metadata": {},
     "outputs": [],
     "prompt_number": 7
    }
   ],
   "metadata": {}
  }
 ]
}