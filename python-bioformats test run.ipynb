{
 "metadata": {
  "name": "",
  "signature": "sha256:11eb3cb1b5aab1e64af410417f84434f836ebb76370e4a49a5a33c794f344b59"
 },
 "nbformat": 3,
 "nbformat_minor": 0,
 "worksheets": [
  {
   "cells": [
    {
     "cell_type": "markdown",
     "metadata": {},
     "source": [
      "Recently, the CellProfiler team at the Broad Institute [announced](https://groups.google.com/a/broadinstitute.org/forum/#!topic/cellprofiler-dev/QZJ1WpiJxuI) pre-release versions of the [python-javabridge](https://github.com/CellProfiler/python-javabridge) and [python-bioformats](https://github.com/CellProfiler/python-bioformats) packages available on PyPI. The latter enables easy import of many biological image formats into numpy arrays, without any of the [flailing around](http://ilovesymposia.com/2014/02/26/fiji-jython/) with converters in Jython that I'd fiddled with in the past.\n",
      "\n",
      "Before starting, you'll need Java development headers on your machine. I imagine that on Linux systems you'd do something like `sudo apt-get install java-devel`, but on OSX you head to Apple's [Developer downloads](https://developer.apple.com/downloads/index.action) page, which requires your Apple ID, and download a \"Java for OS X `<version>` Developer Package\".\n",
      "\n",
      "Then, simply run `pip install python-bioformats`, and you'll get both packages!\n",
      "\n",
      "Next, I follow the examples in the python-bioformats [documentation](http://pythonhosted.org/python-bioformats/) to try to read parts of a massive, 400+GB Leica file without giving my RAM a heart attack."
     ]
    },
    {
     "cell_type": "code",
     "collapsed": false,
     "input": [
      "%matplotlib inline\n",
      "import javabridge as jv\n",
      "import bioformats as bf\n",
      "jv.start_vm(class_path=bf.JARS, max_heap_size=\"8G\")"
     ],
     "language": "python",
     "metadata": {},
     "outputs": [],
     "prompt_number": 1
    },
    {
     "cell_type": "markdown",
     "metadata": {},
     "source": [
      "It is imperative to specify the `max_heap_size` to be something bigger than the anemic default of 256MB. Otherwise, even reading in a small amount of metadata (in our case, a 27MB XML string) will fail. See the following post for more details:\n",
      "\n",
      "[https://github.com/CellProfiler/python-bioformats/issues/8](https://github.com/CellProfiler/python-bioformats/issues/8)"
     ]
    },
    {
     "cell_type": "code",
     "collapsed": false,
     "input": [
      "# Change to the appropriate directory and get the file information\n",
      "%cd /Volumes/LaCie/Data/zebrafish-lesion\n",
      "%ls"
     ],
     "language": "python",
     "metadata": {},
     "outputs": [
      {
       "output_type": "stream",
       "stream": "stdout",
       "text": [
        "/Volumes/LaCie/Data/zebrafish-lesion\n",
        "\u001b[31m2d-post-SCI.lif-cut-PTZ-1.tif\u001b[m\u001b[m* \u001b[31msci-quant.lzf.h5\u001b[m\u001b[m*\r\n",
        "\u001b[31mLong time Gfap 260314.lif\u001b[m\u001b[m*     \u001b[31msci-quant.tif\u001b[m\u001b[m*\r\n",
        "\u001b[31mim.png\u001b[m\u001b[m*                        \u001b[31mtifffile.py\u001b[m\u001b[m*\r\n",
        "\u001b[31mim.tif\u001b[m\u001b[m*                        \u001b[31mtifffile.pyc\u001b[m\u001b[m*\r\n",
        "\u001b[31mlineprofile.py\u001b[m\u001b[m*                \u001b[30m\u001b[43mtime-series\u001b[m\u001b[m/\r\n",
        "\u001b[31mlineprofile.pyc\u001b[m\u001b[m*\r\n"
       ]
      }
     ],
     "prompt_number": 2
    },
    {
     "cell_type": "code",
     "collapsed": false,
     "input": [
      "filename = 'Long time Gfap 260314.lif'\n",
      "rdr = bf.ImageReader(filename, perform_init=True)\n",
      "reader = rdr.rdr\n",
      "print(\"The number of series is %d.\" % reader.getSeriesCount())"
     ],
     "language": "python",
     "metadata": {},
     "outputs": [
      {
       "output_type": "stream",
       "stream": "stdout",
       "text": [
        "The number of series is 179.\n"
       ]
      }
     ],
     "prompt_number": 3
    },
    {
     "cell_type": "markdown",
     "metadata": {},
     "source": [
      "In the next cell, we measure the size of the metadata. I'm maintaining it just for future reference."
     ]
    },
    {
     "cell_type": "code",
     "collapsed": false,
     "input": [
      "import numpy as np\n",
      "with open('Long time Gfap 260314.lif', \"rb\") as fd:\n",
      "    fd.read(9)\n",
      "    length = np.frombuffer(fd.read(4), \"<i4\")\n",
      "    print(length[0])"
     ],
     "language": "python",
     "metadata": {},
     "outputs": [
      {
       "output_type": "stream",
       "stream": "stdout",
       "text": [
        "27594197\n"
       ]
      }
     ],
     "prompt_number": 4
    },
    {
     "cell_type": "code",
     "collapsed": false,
     "input": [
      "reader.setSeries(0)\n",
      "print reader.getMetadataValue('Name')"
     ],
     "language": "python",
     "metadata": {},
     "outputs": [
      {
       "output_type": "stream",
       "stream": "stdout",
       "text": [
        "None\n"
       ]
      }
     ],
     "prompt_number": 5
    },
    {
     "cell_type": "code",
     "collapsed": false,
     "input": [],
     "language": "python",
     "metadata": {},
     "outputs": [],
     "prompt_number": 5
    },
    {
     "cell_type": "markdown",
     "metadata": {},
     "source": [
      "Let's try the XML approach again, see if it can be read with the new heap size:"
     ]
    },
    {
     "cell_type": "code",
     "collapsed": false,
     "input": [
      "md = bf.get_omexml_metadata('Long time Gfap 260314.lif')"
     ],
     "language": "python",
     "metadata": {},
     "outputs": [],
     "prompt_number": 6
    },
    {
     "cell_type": "markdown",
     "metadata": {},
     "source": [
      "It works! Let's see if we can parse it..."
     ]
    },
    {
     "cell_type": "code",
     "collapsed": false,
     "input": [
      "print(type(md))\n",
      "print(len(md))\n",
      "print(md[:10])"
     ],
     "language": "python",
     "metadata": {},
     "outputs": [
      {
       "output_type": "stream",
       "stream": "stdout",
       "text": [
        "<type 'unicode'>\n",
        "66620949\n",
        "<?xml vers\n"
       ]
      }
     ],
     "prompt_number": 7
    },
    {
     "cell_type": "markdown",
     "metadata": {},
     "source": [
      "Okay, so we have an XML string. Let's whip out an XML parser to make sense of it."
     ]
    },
    {
     "cell_type": "code",
     "collapsed": false,
     "input": [
      "import xml\n",
      "import xml.etree.ElementTree as ET\n",
      "mdroot = ET.fromstring(md)"
     ],
     "language": "python",
     "metadata": {},
     "outputs": [],
     "prompt_number": 8
    },
    {
     "cell_type": "markdown",
     "metadata": {},
     "source": [
      "We figure out the parsing from the `xml` package doc [here](https://docs.python.org/2/library/xml.etree.elementtree.html#module-xml.etree.ElementTree). In our case, we are (for now) only interested in the `'Name'` attribute of each `Image` child of the root:"
     ]
    },
    {
     "cell_type": "code",
     "collapsed": false,
     "input": [
      "print([(a.tag, a.attrib) for a in list(list(mdroot[300]))])"
     ],
     "language": "python",
     "metadata": {},
     "outputs": [
      {
       "output_type": "stream",
       "stream": "stdout",
       "text": [
        "[('{http://www.openmicroscopy.org/Schemas/OME/2011-06}AcquiredDate', {}), ('{http://www.openmicroscopy.org/Schemas/OME/2011-06}InstrumentRef', {'ID': 'Instrument:121'}), ('{http://www.openmicroscopy.org/Schemas/OME/2011-06}ObjectiveSettings', {'RefractiveIndex': '1.33', 'ID': 'Objective:121:0'}), ('{http://www.openmicroscopy.org/Schemas/OME/2011-06}Pixels', {'SizeT': '14', 'DimensionOrder': 'XYCZT', 'PhysicalSizeY': '0.445197265625', 'PhysicalSizeX': '0.445197265625', 'PhysicalSizeZ': '1.9912714979001302', 'SizeX': '1024', 'SizeY': '1024', 'SizeZ': '108', 'SizeC': '2', 'Type': 'uint8', 'ID': 'Pixels:121'})]\n"
       ]
      }
     ],
     "prompt_number": 9
    },
    {
     "cell_type": "code",
     "collapsed": false,
     "input": [
      "image_names = []\n",
      "sizes_tzyxc = []\n",
      "res_zyx = []\n",
      "size_tags = ['Size' + c for c in ['T', 'Z', 'Y', 'X', 'C']]\n",
      "res_tags = ['PhysicalSize' + c for c in ['Z', 'Y', 'X']]\n",
      "for child in mdroot:\n",
      "    if child.tag.endswith('Image'):\n",
      "        image_names.append(child.attrib['Name'])\n",
      "        for grandchild in child:\n",
      "            if grandchild.tag.endswith('Pixels'):\n",
      "                att = grandchild.attrib\n",
      "                sizes_tzyxc.append(tuple([int(att[t])\n",
      "                                          for t in size_tags]))\n",
      "                res_zyx.append(tuple([float(att[t]) for t in res_tags]))"
     ],
     "language": "python",
     "metadata": {},
     "outputs": [],
     "prompt_number": 10
    },
    {
     "cell_type": "code",
     "collapsed": false,
     "input": [
      "sizes_tzyxc[45]"
     ],
     "language": "python",
     "metadata": {},
     "outputs": [
      {
       "metadata": {},
       "output_type": "pyout",
       "prompt_number": 11,
       "text": [
        "(1, 51, 1024, 1024, 2)"
       ]
      }
     ],
     "prompt_number": 11
    },
    {
     "cell_type": "code",
     "collapsed": false,
     "input": [
      "for name, size in zip(image_names, sizes_tzyxc):\n",
      "    print(name + ' ' + str(size))"
     ],
     "language": "python",
     "metadata": {},
     "outputs": [
      {
       "output_type": "stream",
       "stream": "stdout",
       "text": [
        "Pre lesion 2x/Pos001_S001 (1, 53, 1024, 1024, 2)\n",
        "Pre lesion 2x/Pos002_S001 (1, 55, 1024, 1024, 2)\n",
        "Pre lesion 2x/Pos003_S001 (1, 51, 1024, 1024, 2)\n",
        "Pre lesion 2x/Pos004_S001 (1, 51, 1024, 1024, 2)\n",
        "Pre lesion 2x/Pos005_S001 (1, 51, 1024, 1024, 2)\n",
        "Pre lesion 2x/Pos006_S001 (1, 58, 1024, 1024, 2)\n",
        "Pre lesion 2x/Pos007_S001 (1, 51, 1024, 1024, 2)\n",
        "Pre lesion 2x/Pos008_S001 (1, 51, 1024, 1024, 2)\n",
        "Pre lesion 2x/Pos009_S001 (1, 52, 1024, 1024, 2)\n",
        "Pre lesion 2x/Pos010_S001 (1, 51, 1024, 1024, 2)\n",
        "Pre lesion 2x/Pos011_S001 (1, 51, 1024, 1024, 2)\n",
        "Pre lesion 2x/Pos012_S001 (1, 52, 1024, 1024, 2)\n",
        "Pre lesion 2x/Pos013_S001 (1, 51, 1024, 1024, 2)\n",
        "Pre lesion 2x/Pos014_S001 (1, 52, 1024, 1024, 2)\n",
        "Pre lesion 2x/Pos015_S001 (1, 52, 1024, 1024, 2)\n",
        "Pre lesion 2x/Pos016_S001 (1, 52, 1024, 1024, 2)\n",
        "Pre lesion 2x/Pos017_S001 (1, 51, 1024, 1024, 2)\n",
        "Pre lesion 2x/Pos018_S001 (1, 52, 1024, 1024, 2)\n",
        "Pre lesion 2x/Pos019_S001 (1, 51, 1024, 1024, 2)\n",
        "Pre lesion 2x/Pos020_S001 (1, 52, 1024, 1024, 2)\n",
        "Pre lesion 2x/Pos021_S001 (1, 52, 1024, 1024, 2)\n",
        "Pre lesion 2x/Pos022_S001 (1, 52, 1024, 1024, 2)\n",
        "Pre lesion 2x/Pos023_S001 (1, 52, 1024, 1024, 2)\n",
        "Mark_and_Find_001/Pos001_S001 (1, 51, 1024, 1024, 2)\n",
        "Mark_and_Find_001/Pos002_S001 (1, 51, 1024, 1024, 2)\n",
        "Mark_and_Find_001/Pos003_S001 (1, 51, 1024, 1024, 2)\n",
        "Mark_and_Find_001/Pos004_S001 (1, 51, 1024, 1024, 2)\n",
        "Mark_and_Find_001/Pos005_S001 (1, 51, 1024, 1024, 2)\n",
        "Mark_and_Find_001/Pos006_S001 (1, 51, 1024, 1024, 2)\n",
        "Mark_and_Find_001/Pos007_S001 (1, 51, 1024, 1024, 2)\n",
        "Mark_and_Find_001/Pos008_S001 (1, 55, 1024, 1024, 2)\n",
        "Mark_and_Find_001/Pos009_S001 (1, 52, 1024, 1024, 2)\n",
        "Mark_and_Find_001/Pos010_S001 (1, 51, 1024, 1024, 2)\n",
        "Mark_and_Find_001/Pos011_S001 (1, 52, 1024, 1024, 2)\n",
        "Mark_and_Find_001/Pos012_S001 (1, 51, 1024, 1024, 2)\n",
        "Mark_and_Find_001/Pos013_S001 (1, 52, 1024, 1024, 2)\n",
        "Mark_and_Find_001/Pos014_S001 (1, 51, 1024, 1024, 2)\n",
        "Mark_and_Find_001/Pos015_S001 (1, 51, 1024, 1024, 2)\n",
        "Mark_and_Find_001/Pos016_S001 (1, 51, 1024, 1024, 2)\n",
        "Mark_and_Find_001/Pos017_S001 (1, 52, 1024, 1024, 2)\n",
        "Mark_and_Find_001/Pos018_S001 (1, 52, 1024, 1024, 2)\n",
        "Mark_and_Find_001/Pos019_S001 (1, 51, 1024, 1024, 2)\n",
        "Mark_and_Find_001/Pos020_S001 (1, 52, 1024, 1024, 2)\n",
        "Mark_and_Find_001/Pos021_S001 (1, 51, 1024, 1024, 2)\n",
        "Mark_and_Find_001/Pos022_S001 (1, 51, 1024, 1024, 2)\n",
        "Mark_and_Find_001/Pos023_S001 (1, 51, 1024, 1024, 2)\n",
        "Mark_and_Find_001/Pos024_S001 (1, 52, 1024, 1024, 2)\n",
        "Mark_and_Find_001/Pos025_S001 (1, 52, 1024, 1024, 2)\n",
        "Mark_and_Find_001/Pos026_S001 (1, 51, 1024, 1024, 2)\n",
        "0 to 16.5h pSCI/Pos001_S001 (34, 51, 1024, 1024, 2)\n",
        "0 to 16.5h pSCI/Pos002_S001 (34, 51, 1024, 1024, 2)\n",
        "0 to 16.5h pSCI/Pos003_S001 (34, 51, 1024, 1024, 2)\n",
        "0 to 16.5h pSCI/Pos004_S001 (34, 51, 1024, 1024, 2)\n",
        "0 to 16.5h pSCI/Pos005_S001 (34, 51, 1024, 1024, 2)\n",
        "0 to 16.5h pSCI/Pos006_S001 (34, 51, 1024, 1024, 2)\n",
        "0 to 16.5h pSCI/Pos007_S001 (34, 51, 1024, 1024, 2)\n",
        "0 to 16.5h pSCI/Pos008_S001 (34, 55, 1024, 1024, 2)\n",
        "0 to 16.5h pSCI/Pos009_S001 (34, 52, 1024, 1024, 2)\n",
        "0 to 16.5h pSCI/Pos010_S001 (34, 51, 1024, 1024, 2)\n",
        "0 to 16.5h pSCI/Pos011_S001 (34, 52, 1024, 1024, 2)\n",
        "0 to 16.5h pSCI/Pos012_S001 (34, 51, 1024, 1024, 2)\n",
        "0 to 16.5h pSCI/Pos013_S001 (34, 52, 1024, 1024, 2)\n",
        "0 to 16.5h pSCI/Pos014_S001 (34, 51, 1024, 1024, 2)\n",
        "0 to 16.5h pSCI/Pos015_S001 (34, 51, 1024, 1024, 2)\n",
        "0 to 16.5h pSCI/Pos016_S001 (34, 51, 1024, 1024, 2)\n",
        "0 to 16.5h pSCI/Pos017_S001 (34, 52, 1024, 1024, 2)\n",
        "0 to 16.5h pSCI/Pos018_S001 (34, 52, 1024, 1024, 2)\n",
        "0 to 16.5h pSCI/Pos019_S001 (34, 51, 1024, 1024, 2)\n",
        "0 to 16.5h pSCI/Pos020_S001 (34, 52, 1024, 1024, 2)\n",
        "0 to 16.5h pSCI/Pos021_S001 (34, 51, 1024, 1024, 2)\n",
        "0 to 16.5h pSCI/Pos022_S001 (34, 51, 1024, 1024, 2)\n",
        "0 to 16.5h pSCI/Pos023_S001 (34, 51, 1024, 1024, 2)\n",
        "0 to 16.5h pSCI/Pos024_S001 (34, 52, 1024, 1024, 2)\n",
        "0 to 16.5h pSCI/Pos025_S001 (34, 52, 1024, 1024, 2)\n",
        "0 to 16.5h pSCI/Pos026_S001 (34, 51, 1024, 1024, 2)\n",
        "22.5h to 41h pSCI/Pos001_S001 (37, 54, 1024, 1024, 2)\n",
        "22.5h to 41h pSCI/Pos002_S001 (37, 55, 1024, 1024, 2)\n",
        "22.5h to 41h pSCI/Pos003_S001 (37, 54, 1024, 1024, 2)\n",
        "22.5h to 41h pSCI/Pos004_S001 (37, 54, 1024, 1024, 2)\n",
        "22.5h to 41h pSCI/Pos005_S001 (37, 53, 1024, 1024, 2)\n",
        "22.5h to 41h pSCI/Pos006_S001 (37, 59, 1024, 1024, 2)\n",
        "22.5h to 41h pSCI/Pos007_S001 (37, 54, 1024, 1024, 2)\n",
        "22.5h to 41h pSCI/Pos008_S001 (37, 55, 1024, 1024, 2)\n",
        "22.5h to 41h pSCI/Pos009_S001 (37, 52, 1024, 1024, 2)\n",
        "22.5h to 41h pSCI/Pos010_S001 (37, 3, 1024, 1024, 2)\n",
        "22.5h to 41h pSCI/Pos011_S001 (37, 53, 1024, 1024, 2)\n",
        "22.5h to 41h pSCI/Pos012_S001 (37, 55, 1024, 1024, 2)\n",
        "22.5h to 41h pSCI/Pos013_S001 (37, 52, 1024, 1024, 2)\n",
        "22.5h to 41h pSCI/Pos014_S001 (37, 64, 1024, 1024, 2)\n",
        "22.5h to 41h pSCI/Pos015_S001 (37, 55, 1024, 1024, 2)\n",
        "22.5h to 41h pSCI/Pos016_S001 (37, 55, 1024, 1024, 2)\n",
        "22.5h to 41h pSCI/Pos017_S001 (37, 54, 1024, 1024, 2)\n",
        "22.5h to 41h pSCI/Pos018_S001 (37, 86, 1024, 1024, 2)\n",
        "22.5h to 41h pSCI/Pos019_S001 (37, 51, 1024, 1024, 2)\n",
        "22.5h to 41h pSCI/Pos020_S001 (37, 52, 1024, 1024, 2)\n",
        "22.5h to 41h pSCI/Pos021_S001 (37, 129, 1024, 1024, 2)\n",
        "22.5h to 41h pSCI/Pos022_S001 (37, 60, 1024, 1024, 2)\n",
        "22.5h to 41h pSCI/Pos023_S001 (37, 61, 1024, 1024, 2)\n",
        "22.5h to 41h pSCI/Pos024_S001 (37, 52, 1024, 1024, 2)\n",
        "22.5h to 41h pSCI/Pos025_S001 (37, 96, 1024, 1024, 2)\n",
        "22.5h to 41h pSCI/Pos026_S001 (37, 71, 1024, 1024, 2)\n",
        "41h to 47.5 hpSCI/Pos001_S001 (14, 64, 1024, 1024, 2)\n",
        "41h to 47.5 hpSCI/Pos002_S001 (14, 63, 1024, 1024, 2)\n",
        "41h to 47.5 hpSCI/Pos003_S001 (14, 64, 1024, 1024, 2)\n",
        "41h to 47.5 hpSCI/Pos004_S001 (14, 70, 1024, 1024, 2)\n",
        "41h to 47.5 hpSCI/Pos005_S001 (14, 64, 1024, 1024, 2)\n",
        "41h to 47.5 hpSCI/Pos006_S001 (14, 72, 1024, 1024, 2)\n",
        "41h to 47.5 hpSCI/Pos007_S001 (14, 68, 1024, 1024, 2)\n",
        "41h to 47.5 hpSCI/Pos008_S001 (14, 62, 1024, 1024, 2)\n",
        "41h to 47.5 hpSCI/Pos009_S001 (14, 3, 1024, 1024, 2)\n",
        "41h to 47.5 hpSCI/Pos010_S001 (14, 3, 1024, 1024, 2)\n",
        "41h to 47.5 hpSCI/Pos011_S001 (14, 65, 1024, 1024, 2)\n",
        "41h to 47.5 hpSCI/Pos012_S001 (14, 66, 1024, 1024, 2)\n",
        "41h to 47.5 hpSCI/Pos013_S001 (14, 3, 1024, 1024, 2)\n",
        "41h to 47.5 hpSCI/Pos014_S001 (14, 63, 1024, 1024, 2)\n",
        "41h to 47.5 hpSCI/Pos015_S001 (14, 62, 1024, 1024, 2)\n",
        "41h to 47.5 hpSCI/Pos016_S001 (14, 70, 1024, 1024, 2)\n",
        "41h to 47.5 hpSCI/Pos017_S001 (14, 65, 1024, 1024, 2)\n",
        "41h to 47.5 hpSCI/Pos018_S001 (14, 81, 1024, 1024, 2)\n",
        "41h to 47.5 hpSCI/Pos019_S001 (14, 3, 1024, 1024, 2)\n",
        "41h to 47.5 hpSCI/Pos020_S001 (14, 3, 1024, 1024, 2)\n",
        "41h to 47.5 hpSCI/Pos021_S001 (14, 108, 1024, 1024, 2)\n",
        "41h to 47.5 hpSCI/Pos022_S001 (14, 64, 1024, 1024, 2)\n",
        "41h to 47.5 hpSCI/Pos023_S001 (14, 61, 1024, 1024, 2)\n",
        "41h to 47.5 hpSCI/Pos024_S001 (14, 3, 1024, 1024, 2)\n",
        "41h to 47.5 hpSCI/Pos025_S001 (14, 84, 1024, 1024, 2)\n",
        "41h to 47.5 hpSCI/Pos026_S001 (14, 69, 1024, 1024, 2)\n",
        "47.5h to 63hpSCI/Pos001_S001 (31, 64, 1024, 1024, 2)\n",
        "47.5h to 63hpSCI/Pos002_S001 (31, 63, 1024, 1024, 2)\n",
        "47.5h to 63hpSCI/Pos003_S001 (31, 64, 1024, 1024, 2)\n",
        "47.5h to 63hpSCI/Pos004_S001 (31, 70, 1024, 1024, 2)\n",
        "47.5h to 63hpSCI/Pos005_S001 (31, 64, 1024, 1024, 2)\n",
        "47.5h to 63hpSCI/Pos006_S001 (31, 72, 1024, 1024, 2)\n",
        "47.5h to 63hpSCI/Pos007_S001 (31, 68, 1024, 1024, 2)\n",
        "47.5h to 63hpSCI/Pos008_S001 (31, 62, 1024, 1024, 2)\n",
        "47.5h to 63hpSCI/Pos009_S001 (31, 3, 1024, 1024, 2)\n",
        "47.5h to 63hpSCI/Pos010_S001 (31, 3, 1024, 1024, 2)\n",
        "47.5h to 63hpSCI/Pos011_S001 (31, 65, 1024, 1024, 2)\n",
        "47.5h to 63hpSCI/Pos012_S001 (31, 66, 1024, 1024, 2)\n",
        "47.5h to 63hpSCI/Pos013_S001 (31, 3, 1024, 1024, 2)\n",
        "47.5h to 63hpSCI/Pos014_S001 (31, 63, 1024, 1024, 2)\n",
        "47.5h to 63hpSCI/Pos015_S001 (31, 62, 1024, 1024, 2)\n",
        "47.5h to 63hpSCI/Pos016_S001 (31, 70, 1024, 1024, 2)\n",
        "47.5h to 63hpSCI/Pos017_S001 (31, 65, 1024, 1024, 2)\n",
        "47.5h to 63hpSCI/Pos018_S001 (31, 81, 1024, 1024, 2)\n",
        "47.5h to 63hpSCI/Pos019_S001 (31, 3, 1024, 1024, 2)\n",
        "47.5h to 63hpSCI/Pos020_S001 (31, 3, 1024, 1024, 2)\n",
        "47.5h to 63hpSCI/Pos021_S001 (31, 108, 1024, 1024, 2)\n",
        "47.5h to 63hpSCI/Pos022_S001 (31, 64, 1024, 1024, 2)\n",
        "47.5h to 63hpSCI/Pos023_S001 (31, 61, 1024, 1024, 2)\n",
        "47.5h to 63hpSCI/Pos024_S001 (31, 3, 1024, 1024, 2)\n",
        "47.5h to 63hpSCI/Pos025_S001 (31, 84, 1024, 1024, 2)\n",
        "47.5h to 63hpSCI/Pos026_S001 (31, 69, 1024, 1024, 2)\n",
        "63 to 72.5hpSCI/Pos001_S001 (20, 64, 1024, 1024, 2)\n",
        "63 to 72.5hpSCI/Pos002_S001 (20, 63, 1024, 1024, 2)\n",
        "63 to 72.5hpSCI/Pos003_S001 (20, 64, 1024, 1024, 2)\n",
        "63 to 72.5hpSCI/Pos004_S001 (20, 70, 1024, 1024, 2)\n",
        "63 to 72.5hpSCI/Pos005_S001 (20, 64, 1024, 1024, 2)\n",
        "63 to 72.5hpSCI/Pos006_S001 (20, 72, 1024, 1024, 2)\n",
        "63 to 72.5hpSCI/Pos007_S001 (20, 68, 1024, 1024, 2)\n",
        "63 to 72.5hpSCI/Pos008_S001 (20, 62, 1024, 1024, 2)\n",
        "63 to 72.5hpSCI/Pos009_S001 (20, 3, 1024, 1024, 2)\n",
        "63 to 72.5hpSCI/Pos010_S001 (20, 3, 1024, 1024, 2)\n",
        "63 to 72.5hpSCI/Pos011_S001 (20, 65, 1024, 1024, 2)\n",
        "63 to 72.5hpSCI/Pos012_S001 (20, 66, 1024, 1024, 2)\n",
        "63 to 72.5hpSCI/Pos013_S001 (20, 3, 1024, 1024, 2)\n",
        "63 to 72.5hpSCI/Pos014_S001 (20, 63, 1024, 1024, 2)\n",
        "63 to 72.5hpSCI/Pos015_S001 (20, 62, 1024, 1024, 2)\n",
        "63 to 72.5hpSCI/Pos016_S001 (20, 70, 1024, 1024, 2)\n",
        "63 to 72.5hpSCI/Pos017_S001 (20, 65, 1024, 1024, 2)\n",
        "63 to 72.5hpSCI/Pos018_S001 (20, 81, 1024, 1024, 2)\n",
        "63 to 72.5hpSCI/Pos019_S001 (20, 3, 1024, 1024, 2)\n",
        "63 to 72.5hpSCI/Pos020_S001 (20, 3, 1024, 1024, 2)\n",
        "63 to 72.5hpSCI/Pos021_S001 (20, 108, 1024, 1024, 2)\n",
        "63 to 72.5hpSCI/Pos022_S001 (20, 64, 1024, 1024, 2)\n",
        "63 to 72.5hpSCI/Pos023_S001 (20, 61, 1024, 1024, 2)\n",
        "63 to 72.5hpSCI/Pos024_S001 (20, 3, 1024, 1024, 2)\n",
        "63 to 72.5hpSCI/Pos025_S001 (20, 84, 1024, 1024, 2)\n",
        "63 to 72.5hpSCI/Pos026_S001 (20, 69, 1024, 1024, 2)\n"
       ]
      }
     ],
     "prompt_number": 12
    },
    {
     "cell_type": "code",
     "collapsed": false,
     "input": [
      "len(np.arange(0, 17, 0.5))"
     ],
     "language": "python",
     "metadata": {},
     "outputs": [
      {
       "metadata": {},
       "output_type": "pyout",
       "prompt_number": 15,
       "text": [
        "34"
       ]
      }
     ],
     "prompt_number": 15
    },
    {
     "cell_type": "code",
     "collapsed": false,
     "input": [
      "idx0 = 49\n",
      "size0 = sizes_tzyxc[idx0]\n",
      "nt, nz = size0[:2]\n",
      "image5d0 = np.zeros(size0, np.uint8)\n",
      "reader.setSeries(idx0)\n",
      "for t in range(nt):\n",
      "    for z in range(nz):\n",
      "        image5d0[t, z] = rdr.read(z=z, t=t, series=idx0, rescale=False)\n"
     ],
     "language": "python",
     "metadata": {},
     "outputs": [],
     "prompt_number": 19
    },
    {
     "cell_type": "code",
     "collapsed": false,
     "input": [
      "import vis\n",
      "vis.cshow(image5d0[..., 0]) # success!"
     ],
     "language": "python",
     "metadata": {},
     "outputs": [
      {
       "metadata": {},
       "output_type": "pyout",
       "prompt_number": 23,
       "text": [
        "<matplotlib.image.AxesImage at 0x24755f990>"
       ]
      },
      {
       "metadata": {},
       "output_type": "display_data",
       "png": "[encoded data removed]",
       "text": [
        "<matplotlib.figure.Figure at 0x246398c90>"
       ]
      }
     ],
     "prompt_number": 23
    },
    {
     "cell_type": "code",
     "collapsed": false,
     "input": [
      "import sys; sys.path.append('/Users/nuneziglesiasj/projects/lesion/')"
     ],
     "language": "python",
     "metadata": {},
     "outputs": [],
     "prompt_number": 24
    },
    {
     "cell_type": "code",
     "collapsed": false,
     "input": [
      "squished = image5d0.sum(axis=1)"
     ],
     "language": "python",
     "metadata": {},
     "outputs": [],
     "prompt_number": 25
    },
    {
     "cell_type": "code",
     "collapsed": false,
     "input": [
      "squished = squished[..., 0]\n",
      "squished.shape"
     ],
     "language": "python",
     "metadata": {},
     "outputs": [
      {
       "metadata": {},
       "output_type": "pyout",
       "prompt_number": 27,
       "text": [
        "(34, 1024, 1024)"
       ]
      }
     ],
     "prompt_number": 27
    },
    {
     "cell_type": "code",
     "collapsed": false,
     "input": [
      "from lesion import trace\n",
      "profiles = [trace.trace_profile(img) for img in squished]"
     ],
     "language": "python",
     "metadata": {},
     "outputs": [
      {
       "output_type": "stream",
       "stream": "stderr",
       "text": [
        "/Users/nuneziglesiasj/anaconda/lib/python2.7/site-packages/numpy/core/_methods.py:55: RuntimeWarning: Mean of empty slice.\n",
        "  warnings.warn(\"Mean of empty slice.\", RuntimeWarning)\n",
        "/Users/nuneziglesiasj/anaconda/lib/python2.7/site-packages/numpy/core/_methods.py:65: RuntimeWarning: invalid value encountered in true_divide\n",
        "  ret, rcount, out=ret, casting='unsafe', subok=False)\n"
       ]
      }
     ],
     "prompt_number": 28
    },
    {
     "cell_type": "code",
     "collapsed": false,
     "input": [
      "from matplotlib import pyplot as plt\n",
      "plt.imshow(squished[-1])"
     ],
     "language": "python",
     "metadata": {},
     "outputs": []
    },
    {
     "cell_type": "code",
     "collapsed": false,
     "input": [
      "def read_image(rdr, idx, sizes):\n",
      "    size = sizes[idx]\n",
      "    nt, nz = size[:2]\n",
      "    image = np.zeros(size[:-1], np.uint8)\n",
      "    for t in range(nt):\n",
      "        for z in range(nz):\n",
      "            image[t, z] = rdr.read(z=z, t=t, c=0, series=idx, rescale=False)\n",
      "    return image\n"
     ],
     "language": "python",
     "metadata": {},
     "outputs": [],
     "prompt_number": 66
    },
    {
     "cell_type": "code",
     "collapsed": false,
     "input": [
      "reader.setSeries(0)\n",
      "print(sizes_tzyxc[0])\n",
      "reader.getSizeZ()"
     ],
     "language": "python",
     "metadata": {},
     "outputs": [
      {
       "output_type": "stream",
       "stream": "stdout",
       "text": [
        "(1, 53, 1024, 1024, 2)\n"
       ]
      },
      {
       "metadata": {},
       "output_type": "pyout",
       "prompt_number": 35,
       "text": [
        "53"
       ]
      }
     ],
     "prompt_number": 35
    },
    {
     "cell_type": "code",
     "collapsed": false,
     "input": [
      "im = read_image(rdr, 0, sizes_tzyxc)\n",
      "im.shape"
     ],
     "language": "python",
     "metadata": {},
     "outputs": [
      {
       "metadata": {},
       "output_type": "pyout",
       "prompt_number": 68,
       "text": [
        "(1, 53, 1024, 1024)"
       ]
      }
     ],
     "prompt_number": 68
    },
    {
     "cell_type": "code",
     "collapsed": false,
     "input": [
      "def parse_name(name):\n",
      "    pstart = name.find('Pos') + 3\n",
      "    pend = pstart + 3\n",
      "    position = int(name[pstart:pend])\n",
      "    if name.startswith('Pre'):\n",
      "        times = np.array([-1.0])\n",
      "    elif name.startswith('Mark'):\n",
      "        times = np.array([np.nan])\n",
      "    else:\n",
      "        tstart = 0\n",
      "        tend = min(name.find(' '), name.find('h'))\n",
      "        t0 = float(name[tstart:tend])\n",
      "        tstart = name.find('to ') + 3\n",
      "        tend = name[tstart:].find('h')\n",
      "        t1 = float(name[tstart:tstart + tend])\n",
      "        times = np.arange(t0, t1 + 0.01, 0.5)\n",
      "    return position, times"
     ],
     "language": "python",
     "metadata": {},
     "outputs": [],
     "prompt_number": 61
    },
    {
     "cell_type": "code",
     "collapsed": false,
     "input": [
      "name = image_names[100]\n",
      "tstart = 0\n",
      "tend = min(name.find(' '), name.find('h'))\n",
      "t0 = float(name[tstart:tend])\n",
      "tstart = name.find('to ') + 3\n",
      "tend = name[tstart:].find('h')\n",
      "tend\n",
      "print(name, name[tstart:tstart+tend])"
     ],
     "language": "python",
     "metadata": {},
     "outputs": [
      {
       "output_type": "stream",
       "stream": "stdout",
       "text": [
        "('22.5h to 41h pSCI/Pos026_S001', '41')\n"
       ]
      }
     ],
     "prompt_number": 60
    },
    {
     "cell_type": "code",
     "collapsed": false,
     "input": [
      "postimes = map(parse_name, image_names)"
     ],
     "language": "python",
     "metadata": {},
     "outputs": [],
     "prompt_number": 63
    },
    {
     "cell_type": "code",
     "collapsed": false,
     "input": [
      "def traces_from_image(imt):\n",
      "    try:\n",
      "        return [trace.trace_profile(im) for im in imt.sum(axis=1)]\n",
      "    except:\n",
      "        return None"
     ],
     "language": "python",
     "metadata": {},
     "outputs": [],
     "prompt_number": 69
    },
    {
     "cell_type": "code",
     "collapsed": false,
     "input": [
      "imt = read_image(rdr, 100, sizes_tzyxc)\n",
      "trs = traces_from_image(imt)"
     ],
     "language": "python",
     "metadata": {},
     "outputs": [],
     "prompt_number": 75
    },
    {
     "cell_type": "code",
     "collapsed": true,
     "input": [
      "postimes[100]"
     ],
     "language": "python",
     "metadata": {},
     "outputs": [
      {
       "metadata": {},
       "output_type": "pyout",
       "prompt_number": 87,
       "text": [
        "(26, array([ 22.5,  23. ,  23.5,  24. ,  24.5,  25. ,  25.5,  26. ,  26.5,\n",
        "         27. ,  27.5,  28. ,  28.5,  29. ,  29.5,  30. ,  30.5,  31. ,\n",
        "         31.5,  32. ,  32.5,  33. ,  33.5,  34. ,  34.5,  35. ,  35.5,\n",
        "         36. ,  36.5,  37. ,  37.5,  38. ,  38.5,  39. ,  39.5,  40. ,\n",
        "         40.5,  41. ]))"
       ]
      }
     ],
     "prompt_number": 87
    },
    {
     "cell_type": "code",
     "collapsed": false,
     "input": [
      "squished = imt.sum(axis=1)"
     ],
     "language": "python",
     "metadata": {},
     "outputs": [],
     "prompt_number": 84
    },
    {
     "cell_type": "code",
     "collapsed": false,
     "input": [
      "plt.plot(trs[-2])"
     ],
     "language": "python",
     "metadata": {},
     "outputs": []
    },
    {
     "cell_type": "code",
     "collapsed": false,
     "input": [
      "vis.cshow(squished[-2])"
     ],
     "language": "python",
     "metadata": {},
     "outputs": []
    },
    {
     "cell_type": "code",
     "collapsed": false,
     "input": [
      "prog = [np.min(a) / np.max(a) for a in trs]\n",
      "plt.plot(prog)"
     ],
     "language": "python",
     "metadata": {},
     "outputs": []
    },
    {
     "cell_type": "code",
     "collapsed": false,
     "input": [
      "all_traces = []\n",
      "for series_idx in range(len(image_names)):\n",
      "    try:\n",
      "        imt = read_image(rdr, series_idx, sizes_tzyxc)\n",
      "        trs = traces_from_image(imt)\n",
      "    except:\n",
      "        trs = None\n",
      "    all_traces.append(trs)"
     ],
     "language": "python",
     "metadata": {},
     "outputs": [],
     "prompt_number": 88
    },
    {
     "cell_type": "code",
     "collapsed": false,
     "input": [
      "len([x for x in all_traces if x is None])"
     ],
     "language": "python",
     "metadata": {},
     "outputs": [
      {
       "metadata": {},
       "output_type": "pyout",
       "prompt_number": 90,
       "text": [
        "0"
       ]
      }
     ],
     "prompt_number": 90
    },
    {
     "cell_type": "code",
     "collapsed": false,
     "input": [
      "import cPickle as pck\n",
      "with open('Gfap-traces.pck', 'w') as trs_file:\n",
      "    pck.dump((postimes, all_traces), trs_file, protocol=-1)"
     ],
     "language": "python",
     "metadata": {},
     "outputs": [],
     "prompt_number": 92
    },
    {
     "cell_type": "code",
     "collapsed": false,
     "input": [
      "def min_over_max(tr):\n",
      "    return tr.min() / tr.max()"
     ],
     "language": "python",
     "metadata": {},
     "outputs": [],
     "prompt_number": 93
    },
    {
     "cell_type": "code",
     "collapsed": false,
     "input": [
      "unique_positions = len(np.unique([pos for pos, time in postimes]))\n",
      "unique_positions"
     ],
     "language": "python",
     "metadata": {},
     "outputs": [
      {
       "metadata": {},
       "output_type": "pyout",
       "prompt_number": 94,
       "text": [
        "26"
       ]
      }
     ],
     "prompt_number": 94
    },
    {
     "cell_type": "code",
     "collapsed": false,
     "input": [
      "data = [None] * (unique_positions + 1)\n",
      "for (pos, times), traces in zip(postimes, all_traces):\n",
      "    stats = np.array(map(min_over_max, traces))\n",
      "    xy = np.vstack((times[:len(stats)], stats))\n",
      "    if data[pos] is None:\n",
      "        data[pos] = xy\n",
      "    else:\n",
      "        data[pos] = np.hstack((data[pos], xy))"
     ],
     "language": "python",
     "metadata": {},
     "outputs": [],
     "prompt_number": 99
    },
    {
     "cell_type": "code",
     "collapsed": false,
     "input": [
      "ex = data[2]\n",
      "sel = ~np.isnan(ex.sum(axis=0))\n",
      "plt.plot(ex[0, sel], ex[1, sel])"
     ],
     "language": "python",
     "metadata": {},
     "outputs": []
    },
    {
     "cell_type": "code",
     "collapsed": false,
     "input": [
      "import os\n",
      "def make_plot(position, xydata, fn=os.path.expanduser('~/Desktop/fig.png')):\n",
      "    fig = plt.figure(figsize=(7, 5), dpi=600)\n",
      "    sel = ~np.isnan(xydata.sum(axis=0))\n",
      "    times, ratios = xydata[:, sel]\n",
      "    plt.plot(times, ratios, lw=2, c='k')\n",
      "    for i in range(len(times) - 1):\n",
      "        diff = times[i+1] - times[i]\n",
      "        if diff > 0.5:\n",
      "            print times[i], times[i+1]\n",
      "            plt.fill_between((times[i] + 0.25, times[i+1] - 0.25), (1, 1),\n",
      "                              color='k', alpha=0.3)\n",
      "    plt.xlim(-2, times.max() + 1)\n",
      "    plt.ylim(max(0, ratios.min() - 0.1), min(1, ratios.max() + 0.1))\n",
      "    plt.title('Position ' + str(position))\n",
      "    plt.savefig(fn, dpi=600)\n",
      "    plt.show()"
     ],
     "language": "python",
     "metadata": {},
     "outputs": [],
     "prompt_number": 128
    },
    {
     "cell_type": "code",
     "collapsed": false,
     "input": [
      "make_plot(1, data[1])"
     ],
     "language": "python",
     "metadata": {},
     "outputs": []
    },
    {
     "cell_type": "code",
     "collapsed": false,
     "input": [
      "for position in range(1, len(data)):\n",
      "    make_plot(position, data[position], fn='plots/position%02i.png' % position)"
     ],
     "language": "python",
     "metadata": {},
     "outputs": []
    },
    {
     "cell_type": "code",
     "collapsed": false,
     "input": [
      "# Kill the VM at the end! I actually edited this first\n",
      "# because it's easy to forget!\n",
      "jv.kill_vm()"
     ],
     "language": "python",
     "metadata": {},
     "outputs": []
    }
   ],
   "metadata": {}
  }
 ]
}