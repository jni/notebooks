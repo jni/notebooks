{
 "metadata": {
  "name": "",
  "signature": "sha256:1f30449024b5b01279fcd616eed8bc3cc16d59617fb45fcbfe4abf9d792a1287"
 },
 "nbformat": 3,
 "nbformat_minor": 0,
 "worksheets": [
  {
   "cells": [
    {
     "cell_type": "markdown",
     "metadata": {},
     "source": [
      "Recently, the CellProfiler team at the Broad Institute [announced](https://groups.google.com/a/broadinstitute.org/forum/#!topic/cellprofiler-dev/QZJ1WpiJxuI) pre-release versions of the [python-javabridge](https://github.com/CellProfiler/python-javabridge) and [python-bioformats](https://github.com/CellProfiler/python-bioformats) packages available on PyPI. The latter enables easy import of many biological image formats into numpy arrays, without any of the [flailing around](http://ilovesymposia.com/2014/02/26/fiji-jython/) with converters in Jython that I'd fiddled with in the past.\n",
      "\n",
      "Before starting, you'll need Java development headers on your machine. I imagine that on Linux systems you'd do something like `sudo apt-get install java-devel`, but on OSX you head to Apple's [Developer downloads](https://developer.apple.com/downloads/index.action) page, which requires your Apple ID, and download a \"Java for OS X `<version>` Developer Package\".\n",
      "\n",
      "Then, simply run `pip install python-bioformats`, and you'll get both packages!\n",
      "\n",
      "Next, I follow the examples in the python-bioformats [documentation](http://pythonhosted.org/python-bioformats/) to try to read parts of a massive, 400+GB Leica file without giving my RAM a heart attack."
     ]
    },
    {
     "cell_type": "code",
     "collapsed": false,
     "input": [
      "%matplotlib inline\n",
      "import javabridge as jv\n",
      "import bioformats as bf\n",
      "jv.start_vm(class_path=bf.JARS)"
     ],
     "language": "python",
     "metadata": {},
     "outputs": [],
     "prompt_number": 3
    },
    {
     "cell_type": "code",
     "collapsed": false,
     "input": [
      "# Change to the appropriate directory and get the file information\n",
      "%cd /Volumes/LaCie/Data/zebrafish-lesion\n",
      "%ls"
     ],
     "language": "python",
     "metadata": {},
     "outputs": [
      {
       "output_type": "stream",
       "stream": "stdout",
       "text": [
        "/Volumes/LaCie/Data/zebrafish-lesion\n",
        "\u001b[31m2d-post-SCI.lif-cut-PTZ-1.tif\u001b[m\u001b[m* \u001b[31msci-quant.lzf.h5\u001b[m\u001b[m*\r\n",
        "\u001b[31mLong time Gfap 260314.lif\u001b[m\u001b[m*     \u001b[31msci-quant.tif\u001b[m\u001b[m*\r\n",
        "\u001b[31mim.png\u001b[m\u001b[m*                        \u001b[31mtifffile.py\u001b[m\u001b[m*\r\n",
        "\u001b[31mim.tif\u001b[m\u001b[m*                        \u001b[31mtifffile.pyc\u001b[m\u001b[m*\r\n",
        "\u001b[31mlineprofile.py\u001b[m\u001b[m*                \u001b[30m\u001b[43mtime-series\u001b[m\u001b[m/\r\n",
        "\u001b[31mlineprofile.pyc\u001b[m\u001b[m*\r\n"
       ]
      }
     ],
     "prompt_number": 6
    },
    {
     "cell_type": "code",
     "collapsed": false,
     "input": [
      "md = bf.get_omexml_metadata('Long time Gfap 260314.lif')"
     ],
     "language": "python",
     "metadata": {},
     "outputs": [
      {
       "ename": "JavaException",
       "evalue": "Java heap space",
       "output_type": "pyerr",
       "traceback": [
        "\u001b[0;31m---------------------------------------------------------------------------\u001b[0m\n\u001b[0;31mJavaException\u001b[0m                             Traceback (most recent call last)",
        "\u001b[0;32m<ipython-input-7-640f92a788d5>\u001b[0m in \u001b[0;36m<module>\u001b[0;34m()\u001b[0m\n\u001b[0;32m----> 1\u001b[0;31m \u001b[0mmd\u001b[0m \u001b[0;34m=\u001b[0m \u001b[0mbf\u001b[0m\u001b[0;34m.\u001b[0m\u001b[0mget_omexml_metadata\u001b[0m\u001b[0;34m(\u001b[0m\u001b[0;34m'Long time Gfap 260314.lif'\u001b[0m\u001b[0;34m)\u001b[0m\u001b[0;34m\u001b[0m\u001b[0m\n\u001b[0m",
        "\u001b[0;32m/Users/nuneziglesiasj/anaconda/lib/python2.7/site-packages/bioformats/formatreader.pyc\u001b[0m in \u001b[0;36mget_omexml_metadata\u001b[0;34m(path, url)\u001b[0m\n\u001b[1;32m    943\u001b[0m         \u001b[0mxml\u001b[0m\u001b[0;34m;\u001b[0m\u001b[0;34m\u001b[0m\u001b[0m\n\u001b[1;32m    944\u001b[0m         \"\"\"\n\u001b[0;32m--> 945\u001b[0;31m         \u001b[0mxml\u001b[0m \u001b[0;34m=\u001b[0m \u001b[0mjutil\u001b[0m\u001b[0;34m.\u001b[0m\u001b[0mrun_script\u001b[0m\u001b[0;34m(\u001b[0m\u001b[0mscript\u001b[0m\u001b[0;34m,\u001b[0m \u001b[0mdict\u001b[0m\u001b[0;34m(\u001b[0m\u001b[0mpath\u001b[0m\u001b[0;34m=\u001b[0m\u001b[0mrdr\u001b[0m\u001b[0;34m.\u001b[0m\u001b[0mpath\u001b[0m\u001b[0;34m,\u001b[0m \u001b[0mreader\u001b[0m \u001b[0;34m=\u001b[0m \u001b[0mrdr\u001b[0m\u001b[0;34m.\u001b[0m\u001b[0mrdr\u001b[0m\u001b[0;34m)\u001b[0m\u001b[0;34m)\u001b[0m\u001b[0;34m\u001b[0m\u001b[0m\n\u001b[0m\u001b[1;32m    946\u001b[0m         \u001b[0;32mreturn\u001b[0m \u001b[0mxml\u001b[0m\u001b[0;34m\u001b[0m\u001b[0m\n",
        "\u001b[0;32m/Users/nuneziglesiasj/anaconda/lib/python2.7/site-packages/javabridge/jutil.pyc\u001b[0m in \u001b[0;36mrun_script\u001b[0;34m(script, bindings_in, bindings_out, class_loader)\u001b[0m\n\u001b[1;32m    338\u001b[0m              \u001b[0;34m\"Ljava/lang/Object;)\"\u001b[0m\u001b[0;34m\u001b[0m\u001b[0m\n\u001b[1;32m    339\u001b[0m              \u001b[0;34m\"Ljava/lang/Object;\"\u001b[0m\u001b[0;34m,\u001b[0m\u001b[0;34m\u001b[0m\u001b[0m\n\u001b[0;32m--> 340\u001b[0;31m              scope, script, \"<java-python-bridge>\", 0, None)\n\u001b[0m\u001b[1;32m    341\u001b[0m         \u001b[0mresult\u001b[0m \u001b[0;34m=\u001b[0m \u001b[0munwrap_javascript\u001b[0m\u001b[0;34m(\u001b[0m\u001b[0mresult\u001b[0m\u001b[0;34m)\u001b[0m\u001b[0;34m\u001b[0m\u001b[0m\n\u001b[1;32m    342\u001b[0m         \u001b[0;32mfor\u001b[0m \u001b[0mk\u001b[0m \u001b[0;32min\u001b[0m \u001b[0mlist\u001b[0m\u001b[0;34m(\u001b[0m\u001b[0mbindings_out\u001b[0m\u001b[0;34m)\u001b[0m\u001b[0;34m:\u001b[0m\u001b[0;34m\u001b[0m\u001b[0m\n",
        "\u001b[0;32m/Users/nuneziglesiasj/anaconda/lib/python2.7/site-packages/javabridge/jutil.pyc\u001b[0m in \u001b[0;36mcall\u001b[0;34m(o, method_name, sig, *args)\u001b[0m\n\u001b[1;32m    888\u001b[0m     \u001b[0mret_sig\u001b[0m \u001b[0;34m=\u001b[0m \u001b[0msig\u001b[0m\u001b[0;34m[\u001b[0m\u001b[0msig\u001b[0m\u001b[0;34m.\u001b[0m\u001b[0mfind\u001b[0m\u001b[0;34m(\u001b[0m\u001b[0;34m')'\u001b[0m\u001b[0;34m)\u001b[0m\u001b[0;34m+\u001b[0m\u001b[0;36m1\u001b[0m\u001b[0;34m:\u001b[0m\u001b[0;34m]\u001b[0m\u001b[0;34m\u001b[0m\u001b[0m\n\u001b[1;32m    889\u001b[0m     \u001b[0mnice_args\u001b[0m \u001b[0;34m=\u001b[0m \u001b[0mget_nice_args\u001b[0m\u001b[0;34m(\u001b[0m\u001b[0margs\u001b[0m\u001b[0;34m,\u001b[0m \u001b[0margs_sig\u001b[0m\u001b[0;34m)\u001b[0m\u001b[0;34m\u001b[0m\u001b[0m\n\u001b[0;32m--> 890\u001b[0;31m     \u001b[0mresult\u001b[0m \u001b[0;34m=\u001b[0m \u001b[0mfn\u001b[0m\u001b[0;34m(\u001b[0m\u001b[0;34m*\u001b[0m\u001b[0mnice_args\u001b[0m\u001b[0;34m)\u001b[0m\u001b[0;34m\u001b[0m\u001b[0m\n\u001b[0m\u001b[1;32m    891\u001b[0m     \u001b[0mx\u001b[0m \u001b[0;34m=\u001b[0m \u001b[0menv\u001b[0m\u001b[0;34m.\u001b[0m\u001b[0mexception_occurred\u001b[0m\u001b[0;34m(\u001b[0m\u001b[0;34m)\u001b[0m\u001b[0;34m\u001b[0m\u001b[0m\n\u001b[1;32m    892\u001b[0m     \u001b[0;32mif\u001b[0m \u001b[0mx\u001b[0m \u001b[0;32mis\u001b[0m \u001b[0;32mnot\u001b[0m \u001b[0mNone\u001b[0m\u001b[0;34m:\u001b[0m\u001b[0;34m\u001b[0m\u001b[0m\n",
        "\u001b[0;32m/Users/nuneziglesiasj/anaconda/lib/python2.7/site-packages/javabridge/jutil.pyc\u001b[0m in \u001b[0;36mfn\u001b[0;34m(*args)\u001b[0m\n\u001b[1;32m    855\u001b[0m             \u001b[0mx\u001b[0m \u001b[0;34m=\u001b[0m \u001b[0menv\u001b[0m\u001b[0;34m.\u001b[0m\u001b[0mexception_occurred\u001b[0m\u001b[0;34m(\u001b[0m\u001b[0;34m)\u001b[0m\u001b[0;34m\u001b[0m\u001b[0m\n\u001b[1;32m    856\u001b[0m             \u001b[0;32mif\u001b[0m \u001b[0mx\u001b[0m \u001b[0;32mis\u001b[0m \u001b[0;32mnot\u001b[0m \u001b[0mNone\u001b[0m\u001b[0;34m:\u001b[0m\u001b[0;34m\u001b[0m\u001b[0m\n\u001b[0;32m--> 857\u001b[0;31m                 \u001b[0;32mraise\u001b[0m \u001b[0mJavaException\u001b[0m\u001b[0;34m(\u001b[0m\u001b[0mx\u001b[0m\u001b[0;34m)\u001b[0m\u001b[0;34m\u001b[0m\u001b[0m\n\u001b[0m\u001b[1;32m    858\u001b[0m             \u001b[0;32mreturn\u001b[0m \u001b[0mresult\u001b[0m\u001b[0;34m\u001b[0m\u001b[0m\n\u001b[1;32m    859\u001b[0m     \u001b[0;32melse\u001b[0m\u001b[0;34m:\u001b[0m\u001b[0;34m\u001b[0m\u001b[0m\n",
        "\u001b[0;31mJavaException\u001b[0m: Java heap space"
       ]
      }
     ],
     "prompt_number": 7
    },
    {
     "cell_type": "markdown",
     "metadata": {},
     "source": [
      "The documentation is not very clear about the exact nature of the `md` object, so let's explore:"
     ]
    },
    {
     "cell_type": "code",
     "collapsed": false,
     "input": [
      "type(md)"
     ],
     "language": "python",
     "metadata": {},
     "outputs": []
    },
    {
     "cell_type": "code",
     "collapsed": false,
     "input": [
      "# Kill the VM at the end! I actually edited this first\n",
      "# because it's easy to forget!\n",
      "jv.kill_vm()"
     ],
     "language": "python",
     "metadata": {},
     "outputs": []
    }
   ],
   "metadata": {}
  }
 ]
}