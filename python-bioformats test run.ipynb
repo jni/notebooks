{
 "metadata": {
  "name": "",
  "signature": "sha256:f03cb2a7f9b4fef3c66de0411540464d359db0a5c8a802c818f5ef89bbb87c63"
 },
 "nbformat": 3,
 "nbformat_minor": 0,
 "worksheets": [
  {
   "cells": [
    {
     "cell_type": "markdown",
     "metadata": {},
     "source": [
      "Recently, the CellProfiler team at the Broad Institute [announced](https://groups.google.com/a/broadinstitute.org/forum/#!topic/cellprofiler-dev/QZJ1WpiJxuI) pre-release versions of the [python-javabridge](https://github.com/CellProfiler/python-javabridge) and [python-bioformats](https://github.com/CellProfiler/python-bioformats) packages available on PyPI. The latter enables easy import of many biological image formats into numpy arrays, without any of the [flailing around](http://ilovesymposia.com/2014/02/26/fiji-jython/) with converters in Jython that I'd fiddled with in the past.\n",
      "\n",
      "Before starting, you'll need Java development headers on your machine. I imagine that on Linux systems you'd do something like `sudo apt-get install java-devel`, but on OSX you head to Apple's [Developer downloads](https://developer.apple.com/downloads/index.action) page, which requires your Apple ID, and download a \"Java for OS X `<version>` Developer Package\".\n",
      "\n",
      "Then, simply run `pip install python-bioformats`, and you'll get both packages!\n",
      "\n",
      "Next, I follow the examples in the python-bioformats [documentation](http://pythonhosted.org/python-bioformats/) to try to read parts of a massive, 400+GB Leica file without giving my RAM a heart attack."
     ]
    },
    {
     "cell_type": "code",
     "collapsed": false,
     "input": [
      "%matplotlib inline\n",
      "import javabridge as jv\n",
      "import bioformats as bf\n",
      "jv.start_vm(class_path=bf.JARS, max_heap_size=\"8G\")"
     ],
     "language": "python",
     "metadata": {},
     "outputs": []
    },
    {
     "cell_type": "markdown",
     "metadata": {},
     "source": [
      "It is imperative to specify the `max_heap_size` to be something bigger than the anemic default of 256MB. Otherwise, even reading in a small amount of metadata (in our case, a 27MB XML string) will fail. See the following post for more details:\n",
      "\n",
      "[https://github.com/CellProfiler/python-bioformats/issues/8](https://github.com/CellProfiler/python-bioformats/issues/8)"
     ]
    },
    {
     "cell_type": "code",
     "collapsed": false,
     "input": [
      "# Change to the appropriate directory and get the file information\n",
      "%cd /Volumes/LaCie/Data/zebrafish-lesion\n",
      "%ls"
     ],
     "language": "python",
     "metadata": {},
     "outputs": []
    },
    {
     "cell_type": "code",
     "collapsed": false,
     "input": [
      "filename = 'Long time Gfap 260314.lif'\n",
      "rdr = bf.ImageReader(filename, perform_init=True)\n",
      "reader = rdr.rdr\n",
      "print(\"The number of series is %d.\" % reader.getSeriesCount())"
     ],
     "language": "python",
     "metadata": {},
     "outputs": []
    },
    {
     "cell_type": "markdown",
     "metadata": {},
     "source": [
      "In the next cell, we measure the size of the metadata. I'm maintaining it just for future reference."
     ]
    },
    {
     "cell_type": "code",
     "collapsed": false,
     "input": [
      "import numpy as np\n",
      "with open('Long time Gfap 260314.lif', \"rb\") as fd:\n",
      "    fd.read(9)\n",
      "    length = np.frombuffer(fd.read(4), \"<i4\")\n",
      "    print(length[0])"
     ],
     "language": "python",
     "metadata": {},
     "outputs": []
    },
    {
     "cell_type": "code",
     "collapsed": false,
     "input": [
      "reader.setSeries(0)\n",
      "print reader.getMetadataValue('Name')"
     ],
     "language": "python",
     "metadata": {},
     "outputs": []
    },
    {
     "cell_type": "code",
     "collapsed": false,
     "input": [],
     "language": "python",
     "metadata": {},
     "outputs": []
    },
    {
     "cell_type": "markdown",
     "metadata": {},
     "source": [
      "Let's try the XML approach again, see if it can be read with the new heap size:"
     ]
    },
    {
     "cell_type": "code",
     "collapsed": false,
     "input": [
      "md = bf.get_omexml_metadata('Long time Gfap 260314.lif')"
     ],
     "language": "python",
     "metadata": {},
     "outputs": []
    },
    {
     "cell_type": "markdown",
     "metadata": {},
     "source": [
      "It works! Let's see if we can parse it..."
     ]
    },
    {
     "cell_type": "code",
     "collapsed": false,
     "input": [
      "print(type(md))\n",
      "print(len(md))\n",
      "print(md[:10])"
     ],
     "language": "python",
     "metadata": {},
     "outputs": []
    },
    {
     "cell_type": "markdown",
     "metadata": {},
     "source": [
      "Okay, so we have an XML string. Let's whip out an XML parser to make sense of it."
     ]
    },
    {
     "cell_type": "code",
     "collapsed": false,
     "input": [
      "import xml\n",
      "import xml.etree.ElementTree as ET\n",
      "mdroot = ET.fromstring(md)"
     ],
     "language": "python",
     "metadata": {},
     "outputs": []
    },
    {
     "cell_type": "markdown",
     "metadata": {},
     "source": [
      "We figure out the parsing from the `xml` package doc [here](https://docs.python.org/2/library/xml.etree.elementtree.html#module-xml.etree.ElementTree). In our case, we are (for now) only interested in the `'Name'` attribute of each `Image` child of the root:"
     ]
    },
    {
     "cell_type": "code",
     "collapsed": false,
     "input": [
      "print([(a.tag, a.attrib) for a in list(list(mdroot[300]))])"
     ],
     "language": "python",
     "metadata": {},
     "outputs": []
    },
    {
     "cell_type": "code",
     "collapsed": false,
     "input": [
      "image_names = []\n",
      "sizes_tzyxc = []\n",
      "res_zyx = []\n",
      "size_tags = ['Size' + c for c in ['T', 'Z', 'Y', 'X', 'C']]\n",
      "res_tags = ['PhysicalSize' + c for c in ['Z', 'Y', 'X']]\n",
      "for child in mdroot:\n",
      "    if child.tag.endswith('Image'):\n",
      "        image_names.append(child.attrib['Name'])\n",
      "        for grandchild in child:\n",
      "            if grandchild.tag.endswith('Pixels'):\n",
      "                att = grandchild.attrib\n",
      "                sizes_tzyxc.append(tuple([int(att[t])\n",
      "                                          for t in size_tags]))\n",
      "                res_zyx.append(tuple([float(att[t]) for t in res_tags]))"
     ],
     "language": "python",
     "metadata": {},
     "outputs": []
    },
    {
     "cell_type": "code",
     "collapsed": false,
     "input": [
      "sizes_tzyxc[45]"
     ],
     "language": "python",
     "metadata": {},
     "outputs": []
    },
    {
     "cell_type": "code",
     "collapsed": false,
     "input": [
      "for name, size in zip(image_names, sizes_tzyxc):\n",
      "    print(name + ' ' + str(size))"
     ],
     "language": "python",
     "metadata": {},
     "outputs": []
    },
    {
     "cell_type": "code",
     "collapsed": false,
     "input": [
      "# Kill the VM at the end! I actually edited this first\n",
      "# because it's easy to forget!\n",
      "jv.kill_vm()"
     ],
     "language": "python",
     "metadata": {},
     "outputs": []
    }
   ],
   "metadata": {}
  }
 ]
}